{
 "cells": [
  {
   "cell_type": "markdown",
   "metadata": {},
   "source": [
    "### Multiple Features Gradient Descent"
   ]
  },
  {
   "cell_type": "raw",
   "metadata": {},
   "source": [
    "Multiple features:\n",
    "-Size                 <--X1\n",
    "-Number of bedrooms   <--X2\n",
    "-number of floors     <--X3\n",
    "-age of House         <--X4\n",
    "-Price                <--Y"
   ]
  },
  {
   "cell_type": "raw",
   "metadata": {},
   "source": [
    "n = number of features\n",
    "m = number of data"
   ]
  },
  {
   "cell_type": "raw",
   "metadata": {},
   "source": [
    "xi = features of ith training data  = [1416,2,3,40]\n",
    "xij = feature j of ith training data = 40"
   ]
  },
  {
   "cell_type": "raw",
   "metadata": {},
   "source": [
    "Hypothesis:\n",
    "h(x) = ø0 + ø1*(x1) + ø2*(x2) + ø3*(x3) + ø4*(x4)\n",
    "                                        ,For convenience of notation, define x0 = 1\n",
    "x = [x0 x1 x2 x3 x4] and ø = [ø0 ø1 ø2 ø3 ø4]\n",
    "Both, x and ø are Row matrix with 4+1=5 rows\n",
    "same can be done for n features with n+1 row matrix"
   ]
  },
  {
   "cell_type": "raw",
   "metadata": {},
   "source": [
    "h(x) = (øT)*(x)\n",
    "            ,Where, x = Row vector and øT = transpose of ø\n",
    "                                          = Column vector"
   ]
  },
  {
   "cell_type": "markdown",
   "metadata": {},
   "source": [
    "Also called Multivariate Linear Regression"
   ]
  },
  {
   "cell_type": "raw",
   "metadata": {},
   "source": [
    "parameters:ø0,ø1,...,øn  => noted combined as ø"
   ]
  },
  {
   "cell_type": "raw",
   "metadata": {},
   "source": [
    "Cost function:\n",
    "J(ø) = (1/2m)∑(h(xi)-yi)^2"
   ]
  },
  {
   "cell_type": "raw",
   "metadata": {},
   "source": [
    "Gradient descent:\n",
    "øj = øj - (Alpha)*(Derivative of J(ø) w.r.t øj)\n",
    "Here, we will use partial derivation concept"
   ]
  },
  {
   "cell_type": "raw",
   "metadata": {},
   "source": [
    "New Gradient descent algorithm\n",
    "\n",
    "Repeats until it converges {\n",
    "øj = øj - (Alpha)*[(1/m)∑(h(xi)-yi)*(xij)]\n",
    "        Simultaneously update øj for j = 0,1,....,n\n",
    "        }"
   ]
  },
  {
   "cell_type": "raw",
   "metadata": {},
   "source": [
    "In case of 3 parameters : ø0,ø1,ø2\n",
    "ø0 = ø0 - (Alpha)*[(1/m)∑(h(xi)-yi)*(xi0)]  -> xi0 = 1 \n",
    "ø1 = ø1 - (Alpha)*[(1/m)∑(h(xi)-yi)*(xi1)]\n",
    "ø2 = ø2 - (Alpha)*[(1/m)∑(h(xi)-yi)*(xi2)]"
   ]
  },
  {
   "cell_type": "markdown",
   "metadata": {},
   "source": [
    "#### Feature Scalling"
   ]
  },
  {
   "cell_type": "raw",
   "metadata": {},
   "source": [
    "When features have different scales, then descent will converges\n",
    "faster for smaller scales and slower for larger scales.\n",
    "So, we need to make all scales in the same range."
   ]
  },
  {
   "cell_type": "raw",
   "metadata": {},
   "source": [
    "Idea: make sure features re on similar scale."
   ]
  },
  {
   "cell_type": "raw",
   "metadata": {},
   "source": [
    "Ex: \n",
    "x1 = size (0-2000 ft.sq.)     =>     x1 = size(ft.sq.)/2000\n",
    "x2 = number of bedrooms (1-5) =>     x2 = (number of bedrooms)/5\n",
    "\n",
    "Now, 0 ≤ x1 ≤ 1 and 0 ≤ x2 ≤ 1"
   ]
  },
  {
   "cell_type": "raw",
   "metadata": {},
   "source": [
    "Generally, we want to get every feature in the range of\n",
    "                -1 ≤ xi ≤ 1 \n",
    "We try to get scale near above range as possible as could"
   ]
  },
  {
   "cell_type": "raw",
   "metadata": {},
   "source": [
    "very small scaler values are also not good to use,\n",
    "-0.00001 ≤ x ≤ 0.00001"
   ]
  },
  {
   "cell_type": "markdown",
   "metadata": {},
   "source": [
    "#### Mean Normalization"
   ]
  },
  {
   "cell_type": "raw",
   "metadata": {},
   "source": [
    "replace xi with xi-µi to make features have appx. zero mean\n",
    "x1 = (size-1000)/2000\n",
    "x2 = (number of bedrooms-2)/5\n",
    "Now, -0.5 ≤ x1,x2 ≤ 0.5"
   ]
  },
  {
   "cell_type": "raw",
   "metadata": {},
   "source": [
    "xi = (xi-µi)/Si,\n",
    "       xi = feature value\n",
    "       µi = Avg. of given Values\n",
    "       Si = difference between max. and mini. value"
   ]
  },
  {
   "cell_type": "markdown",
   "metadata": {},
   "source": [
    "#### Learning rate"
   ]
  },
  {
   "cell_type": "raw",
   "metadata": {},
   "source": [
    "Debugging: Make sure gardient descent works correctly\n",
    "Which means, after each iterations value of J(ø) should decreases towards minimum values \n",
    "(plot of J(ø)->iterations)"
   ]
  },
  {
   "cell_type": "raw",
   "metadata": {},
   "source": [
    "If J is not converging with iterations, try to make small Learning rate.\n",
    "\n",
    "Try Alpha as: ... ,0.001 , 0.01 , 0.1 , 1 , 10 , 100, ..."
   ]
  },
  {
   "cell_type": "markdown",
   "metadata": {},
   "source": [
    "#### Polynomial Regression"
   ]
  },
  {
   "cell_type": "raw",
   "metadata": {},
   "source": [
    "Hypothesis like,\n",
    "-> ø0 + ø1*(x) + ø2*(x)^2                :Quadratic\n",
    "-> ø0 + ø1*(x) + ø2*(x)^2 + ø3*(x)^3     :Cubic\n",
    "-> ø0 + ø1*(x) + ø2*(x)^(0.5)"
   ]
  },
  {
   "cell_type": "markdown",
   "metadata": {},
   "source": [
    "#### Normal equation "
   ]
  },
  {
   "cell_type": "raw",
   "metadata": {},
   "source": [
    "Noraml equation: method to solve for ø analytically."
   ]
  },
  {
   "cell_type": "raw",
   "metadata": {},
   "source": [
    "assume: J(ø) = aø^2 + bø + c\n",
    "where, ø is 1D row vector,       ø = ø0,ø1,ø2,...,øn"
   ]
  },
  {
   "cell_type": "raw",
   "metadata": {},
   "source": [
    "now,we can get derivative of J(ø) w.r.t ø,\n",
    "and equate it with 0 to get minimum value of ø."
   ]
  },
  {
   "cell_type": "raw",
   "metadata": {},
   "source": [
    "Example: X = features of House and y = Price($) , both are matrix\n",
    "X =\n",
    "\n",
    "           1        2104           5           1          45\n",
    "           1        1416           3           2          40\n",
    "           1        1534           3           2          30\n",
    "           1         852           2           1          36\n",
    "\n",
    "y =\n",
    "\n",
    "   460\n",
    "   232\n",
    "   315\n",
    "   178\n",
    "\n",
    "X=design matrix"
   ]
  },
  {
   "cell_type": "raw",
   "metadata": {},
   "source": [
    "Analytical method:\n",
    "\n",
    "ø = [(XT*X)^(-1)]*XT*y  ,where XT = Transpose of X matrix"
   ]
  },
  {
   "cell_type": "raw",
   "metadata": {},
   "source": [
    "for m data sets with n features,\n",
    "xi = \n",
    "        xi0\n",
    "        xi1\n",
    "        xi2\n",
    "         .\n",
    "         .\n",
    "         .\n",
    "        xin\n",
    "\n",
    "X (design matrix) =\n",
    "                       -----(x1)T-----\n",
    "                       -----(x2)T-----\n",
    "                              .\n",
    "                              .\n",
    "                              .\n",
    "                       -----(xm)T-----  \n",
    "\n",
    "here, each xi (x1,x2..xm) is row vector, hence its transpose will be column vector,\n",
    "and stacking up this column matrix for m data sets will give us (m x n) Matrix."
   ]
  },
  {
   "cell_type": "markdown",
   "metadata": {},
   "source": [
    "#### What to choose?"
   ]
  },
  {
   "cell_type": "raw",
   "metadata": {},
   "source": [
    "Gradient descent:\n",
    "- Need to choose Alpha\n",
    "- Need many iterations\n",
    "- Works well even when n is large"
   ]
  },
  {
   "cell_type": "raw",
   "metadata": {},
   "source": [
    "Normal Equation:\n",
    "- No need to choose Alpha\n",
    "- Don't need to iterate\n",
    "- Need to compute inverse(XT*X) <= (n x n) matirx, which gets slow if n is very large\n",
    "[O(n^3)] time complexity"
   ]
  },
  {
   "cell_type": "markdown",
   "metadata": {},
   "source": [
    "#### Normal equation with non-invertibility"
   ]
  },
  {
   "cell_type": "raw",
   "metadata": {},
   "source": [
    "-Redundant features(linearly dependent)\n",
    "E.g. x1 = size in ft.sq\n",
    "     x2 = size in me.sq\n",
    "   - Solution change x1 in me.sq\n",
    "   \n",
    "- Too many features, m ≤ n\n",
    "E.g. m = 10 and n = 100\n",
    "   - Solution: delete some features, or use regularization"
   ]
  }
 ],
 "metadata": {
  "kernelspec": {
   "display_name": "Python 3",
   "language": "python",
   "name": "python3"
  },
  "language_info": {
   "codemirror_mode": {
    "name": "ipython",
    "version": 3
   },
   "file_extension": ".py",
   "mimetype": "text/x-python",
   "name": "python",
   "nbconvert_exporter": "python",
   "pygments_lexer": "ipython3",
   "version": "3.7.6"
  }
 },
 "nbformat": 4,
 "nbformat_minor": 4
}
