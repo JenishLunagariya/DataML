{
 "cells": [
  {
   "cell_type": "markdown",
   "metadata": {},
   "source": [
    "### Regularization"
   ]
  },
  {
   "cell_type": "raw",
   "metadata": {},
   "source": [
    "Countinue our Housing Price problem"
   ]
  },
  {
   "cell_type": "raw",
   "metadata": {},
   "source": [
    "ø0 + ø1.x                             : Underfitting (High Bias)\n",
    "ø0 + ø1.x + ø2.x^2 + ø3.x^3 + ø4.x^4  : Overfitting (High Variance)\n",
    "ø0 + ø1.x + ø2.x^2                    : Just Right "
   ]
  },
  {
   "cell_type": "raw",
   "metadata": {},
   "source": [
    "Problem of Overfitting comes, when we have too many features, the learned hypothesis may fit the training set very well , but fail to generalize to new example(predict price on new examples)"
   ]
  },
  {
   "cell_type": "raw",
   "metadata": {},
   "source": [
    "Same principle can be applied to logistic regression"
   ]
  },
  {
   "cell_type": "markdown",
   "metadata": {},
   "source": [
    "#### Addressing overfitting"
   ]
  },
  {
   "cell_type": "raw",
   "metadata": {},
   "source": [
    "Two options:\n",
    "  1) Reduce the no. of features\n",
    "   - manually select which features to keep\n",
    "   - model selection algorithm\n",
    "   DisAdv: We are throwing away information\n",
    "  2) Regularization\n",
    "   - kepp all features, but reduce magnitude of parameters ø\n",
    "   - works well when we have a lot of features, each of which contributes a bit to predicting y"
   ]
  },
  {
   "cell_type": "markdown",
   "metadata": {},
   "source": [
    "#### Regularization"
   ]
  },
  {
   "cell_type": "raw",
   "metadata": {},
   "source": [
    "function: ø0 + ø1.x + ø2.x^2 + ø3.x^3 + ø4.x^4\n",
    "\n",
    "we penalise and make ø3,ø4 really small\n",
    "\n",
    "-> small values for ø0,ø1,...øn\n",
    "   - simpler hypothesis\n",
    "   - less prone to overfit\n",
    "\n",
    "Adding Regularization term in the last,\n",
    "\n",
    "J(ø) = (1/2m)[∑(h(xi) - yi)^2 + (lambda).∑øj^2] i = 1 to m\n",
    "                                                j = 1 to n\n",
    "\n",
    "lambda = regularization term\n",
    "               \n",
    "we are adding regularization terms, because we initially make ø small such that higher order terms come close to negligible value\n",
    "To balance it, we need to add Regularization term"
   ]
  },
  {
   "cell_type": "markdown",
   "metadata": {},
   "source": [
    "#### Regularized Linear regression"
   ]
  },
  {
   "cell_type": "raw",
   "metadata": {},
   "source": [
    "gradient descent,\n",
    "\n",
    "Repeat {\n",
    "    ø0 := ø0 - alpha∑(h(xi)-yi).xi0\n",
    "    \n",
    "    øj := øj - alpha∑(h(xi)-yi).xij - (lambda/m).øj  ,where j = 1,2,...n\n",
    "}"
   ]
  },
  {
   "cell_type": "markdown",
   "metadata": {},
   "source": [
    "#### Normal Equation"
   ]
  },
  {
   "cell_type": "raw",
   "metadata": {},
   "source": [
    "X =                              \n",
    "     (x1)T\n",
    "     (x2)T\n",
    "       .\n",
    "       .\n",
    "       .\n",
    "     (xm)T  \n",
    "\n",
    "y = \n",
    "     y1\n",
    "     y2\n",
    "     .\n",
    "     .\n",
    "     .\n",
    "     ym          Row matrix"
   ]
  },
  {
   "cell_type": "raw",
   "metadata": {},
   "source": [
    "we want min J(ø)\n",
    "\n",
    "ø = [(XT.X + (lambda).(diagonal matrix (n+1 x n+1)) )^(-1)].XT.y "
   ]
  },
  {
   "cell_type": "markdown",
   "metadata": {},
   "source": [
    "#### Non-invertibility "
   ]
  },
  {
   "cell_type": "raw",
   "metadata": {},
   "source": [
    "Suppose m ≤ n,\n",
    " ø = ((XT.X)^(-1)).XT.y\n",
    "\n",
    "if lambda>0,\n",
    " ø = [(XT.X + (lambda).(diagonal matrix (n+1 x n+1)) )^(-1)].XT.y "
   ]
  },
  {
   "cell_type": "markdown",
   "metadata": {},
   "source": [
    "#### Regularized Logistic Regression"
   ]
  },
  {
   "cell_type": "raw",
   "metadata": {},
   "source": [
    "J(ø) = -(1/m)∑[yi.log(h(xi)) + (1-yi).log(1-h(xi)) + (lambda/2m)∑(øj^2)]\n",
    "                                                            |\n",
    "                                                            |\n",
    "                                                            V\n",
    "                                                     Regularization term"
   ]
  },
  {
   "cell_type": "raw",
   "metadata": {},
   "source": [
    "Gradient descent,\n",
    "\n",
    "Repeat {\n",
    "    ø0 := ø0 - alpha∑(h(xi)-yi).xi0\n",
    "    \n",
    "    øj := øj - alpha∑(h(xi)-yi).xij - (lambda/m).øj  ,where j = 1,2,...n\n",
    "}"
   ]
  }
 ],
 "metadata": {
  "kernelspec": {
   "display_name": "Python 3",
   "language": "python",
   "name": "python3"
  },
  "language_info": {
   "codemirror_mode": {
    "name": "ipython",
    "version": 3
   },
   "file_extension": ".py",
   "mimetype": "text/x-python",
   "name": "python",
   "nbconvert_exporter": "python",
   "pygments_lexer": "ipython3",
   "version": "3.7.6"
  }
 },
 "nbformat": 4,
 "nbformat_minor": 4
}
