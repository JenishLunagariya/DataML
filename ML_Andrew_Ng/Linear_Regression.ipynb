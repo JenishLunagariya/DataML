{
 "cells": [
  {
   "cell_type": "markdown",
   "metadata": {},
   "source": [
    "#### Model Reprentation"
   ]
  },
  {
   "cell_type": "raw",
   "metadata": {},
   "source": [
    "trainig set (house prices vs size)\n",
    "                |\n",
    "                |\n",
    "        Learning algorithm\n",
    "                |\n",
    "                |\n",
    "Size of---> Hypothesis h ----> Estimated Price\n",
    "Houses"
   ]
  },
  {
   "cell_type": "raw",
   "metadata": {},
   "source": [
    "h(x) = ø0 + (ø1)*(x)   Basic Linear Regression"
   ]
  },
  {
   "cell_type": "raw",
   "metadata": {},
   "source": [
    "Parameters : ø0, ø1 "
   ]
  },
  {
   "cell_type": "markdown",
   "metadata": {},
   "source": [
    "#### Cost Function"
   ]
  },
  {
   "cell_type": "raw",
   "metadata": {},
   "source": [
    "we can measure the accuracy of the Hypothesis by Cost Function"
   ]
  },
  {
   "cell_type": "raw",
   "metadata": {},
   "source": [
    "h(x) = ø0 + (ø1)*(x)"
   ]
  },
  {
   "cell_type": "raw",
   "metadata": {},
   "source": [
    "In House Cost Vs Area Model, choose ø0 and ø1 such that h(x) is close to y for training example(x,y)"
   ]
  },
  {
   "cell_type": "raw",
   "metadata": {},
   "source": [
    "error: J(ø0,ø1) = (1/2M)∑[h(x)-y]^2 , ∑ from i=1 to i=M datasets"
   ]
  },
  {
   "cell_type": "raw",
   "metadata": {},
   "source": [
    "J function must be minimized by varying values of ø0 and ø1"
   ]
  },
  {
   "cell_type": "markdown",
   "metadata": {},
   "source": [
    "Goal: Minimize J(ø0,ø1)"
   ]
  },
  {
   "cell_type": "markdown",
   "metadata": {},
   "source": [
    "#### Simplifying Case"
   ]
  },
  {
   "cell_type": "raw",
   "metadata": {},
   "source": [
    "Assume ø0 = 0"
   ]
  },
  {
   "cell_type": "raw",
   "metadata": {},
   "source": [
    "Hence, for fixed value of ø1, h(x) will depend on x only\n",
    "and J(ø0,ø1) will become J(ø1), J will only depend on ø1"
   ]
  },
  {
   "cell_type": "raw",
   "metadata": {},
   "source": [
    "for different ø1=(...-2,-1,0,1,2...), will get J function values by plotting y Vs x plot and then get final plot of different J Vs ø1."
   ]
  },
  {
   "cell_type": "raw",
   "metadata": {},
   "source": [
    "we will trace the plot of J Vs ø1, and can get value of ø1, for which \n",
    "we get minimized value of J."
   ]
  },
  {
   "cell_type": "markdown",
   "metadata": {},
   "source": [
    "#### Actual case"
   ]
  },
  {
   "cell_type": "raw",
   "metadata": {},
   "source": [
    "We need to consider both ø0 and ø1"
   ]
  },
  {
   "cell_type": "raw",
   "metadata": {},
   "source": [
    "In that case we get 3 axis plot (J,ø0,ø2) --> 3D plot\n",
    "Which can be visualize using counter plots on 2D plot(ø1->ø0), where center point of counters will give value of ø0 and ø1 for minimized J"
   ]
  },
  {
   "cell_type": "markdown",
   "metadata": {},
   "source": [
    "#### Gradient Descent Algorithm"
   ]
  },
  {
   "cell_type": "raw",
   "metadata": {},
   "source": [
    "øj = øj - (alpha)*(derivative of J(ø0,ø1) w.r.t øj) , \n",
    "                                                j = 0 and 1 (ø0 and ø1)\n",
    "take initial øj and subtrate 2nd term from it and assign final value as new øj"
   ]
  },
  {
   "cell_type": "raw",
   "metadata": {},
   "source": [
    "Learning rate = Alpha\n",
    "If Learinig rate too big then, it will take big steps and we will fail to converge.\n",
    "If Learning rate too small, algorithm will take too much time to converge."
   ]
  },
  {
   "cell_type": "raw",
   "metadata": {},
   "source": [
    "By doing it,we are moving from assumed initial values(ø0=0 and ø1=0), to the values (ø0,ø1) which gives local minimized J function value"
   ]
  },
  {
   "cell_type": "raw",
   "metadata": {},
   "source": [
    "Example:\n",
    "1) Calculate both first\n",
    "term0 = ø0 - (alpha)*(derivative of J(ø0,ø1) w.r.t ø0)\n",
    "term1 = ø1 - (alpha)*(derivative of J(ø0,ø1) w.r.t ø1)\n",
    "2) Update both simultaneously\n",
    "ø0 = term0\n",
    "ø1 = term1"
   ]
  },
  {
   "cell_type": "raw",
   "metadata": {},
   "source": [
    "As we approach local minimum, Gradient descend will automaticaly take \n",
    "smaller steps."
   ]
  },
  {
   "cell_type": "raw",
   "metadata": {},
   "source": [
    "Differntial terms (for one variable Case) => \n",
    "for ø0 : (1/M)∑[h(x)-y]\n",
    "for ø1 : (1/M)∑[h(x)-y]*(x)"
   ]
  },
  {
   "cell_type": "markdown",
   "metadata": {},
   "source": [
    "### Quiz "
   ]
  },
  {
   "cell_type": "code",
   "execution_count": 5,
   "metadata": {},
   "outputs": [],
   "source": [
    "x=[0,1,3,4]\n",
    "y=[1,2,2,3]"
   ]
  },
  {
   "cell_type": "code",
   "execution_count": 6,
   "metadata": {},
   "outputs": [],
   "source": [
    "import matplotlib.pyplot as plt"
   ]
  },
  {
   "cell_type": "code",
   "execution_count": 7,
   "metadata": {},
   "outputs": [
    {
     "data": {
      "image/png": "[encoded data removed]",
      "text/plain": [
       "<Figure size 432x288 with 1 Axes>"
      ]
     },
     "metadata": {
      "needs_background": "light"
     },
     "output_type": "display_data"
    }
   ],
   "source": [
    "plt.scatter(x,y)\n",
    "plt.show()"
   ]
  },
  {
   "cell_type": "code",
   "execution_count": 10,
   "metadata": {},
   "outputs": [
    {
     "data": {
      "image/png": "[encoded data removed]",
      "text/plain": [
       "<Figure size 432x288 with 1 Axes>"
      ]
     },
     "metadata": {
      "needs_background": "light"
     },
     "output_type": "display_data"
    }
   ],
   "source": [
    "plt.plot(x,y)\n",
    "plt.show()"
   ]
  },
  {
   "cell_type": "code",
   "execution_count": 11,
   "metadata": {},
   "outputs": [],
   "source": [
    "import numpy as np"
   ]
  },
  {
   "cell_type": "code",
   "execution_count": 17,
   "metadata": {},
   "outputs": [],
   "source": [
    "x1 = [1,2,2,3,3,4,5,6,6,6,8,10]\n",
    "y1 = [-890,-1411,-1560,-2220,-2091,-2878,-3537,-3268,-3920,-4163,-5471,-5157]"
   ]
  },
  {
   "cell_type": "code",
   "execution_count": 18,
   "metadata": {},
   "outputs": [
    {
     "data": {
      "text/plain": [
       "12"
      ]
     },
     "execution_count": 18,
     "metadata": {},
     "output_type": "execute_result"
    }
   ],
   "source": [
    "len(x1)\n",
    "len(y1)"
   ]
  },
  {
   "cell_type": "code",
   "execution_count": 19,
   "metadata": {},
   "outputs": [
    {
     "data": {
      "image/png": "[encoded data removed]",
      "text/plain": [
       "<Figure size 432x288 with 1 Axes>"
      ]
     },
     "metadata": {
      "needs_background": "light"
     },
     "output_type": "display_data"
    }
   ],
   "source": [
    "plt.scatter(x1,y1)\n",
    "plt.show()"
   ]
  },
  {
   "cell_type": "code",
   "execution_count": 23,
   "metadata": {},
   "outputs": [
    {
     "data": {
      "image/png": "[encoded data removed]",
      "text/plain": [
       "<Figure size 432x288 with 1 Axes>"
      ]
     },
     "metadata": {
      "needs_background": "light"
     },
     "output_type": "display_data"
    }
   ],
   "source": [
    "q0=-569.6\n",
    "q1=-530.9\n",
    "yp=[]\n",
    "for i in x1:\n",
    "    yi = q0 + q1*i\n",
    "    yp.append(yi)\n",
    "plt.plot(x1,yp)\n",
    "plt.show()"
   ]
  },
  {
   "cell_type": "code",
   "execution_count": 24,
   "metadata": {},
   "outputs": [
    {
     "data": {
      "image/png": "[encoded data removed]",
      "text/plain": [
       "<Figure size 432x288 with 1 Axes>"
      ]
     },
     "metadata": {
      "needs_background": "light"
     },
     "output_type": "display_data"
    }
   ],
   "source": [
    "q0=-569.6\n",
    "q1=530.9\n",
    "yp=[]\n",
    "for i in x1:\n",
    "    yi = q0 + q1*i\n",
    "    yp.append(yi)\n",
    "plt.plot(x1,yp)\n",
    "plt.show()"
   ]
  },
  {
   "cell_type": "code",
   "execution_count": 25,
   "metadata": {},
   "outputs": [
    {
     "data": {
      "image/png": "[encoded data removed]",
      "text/plain": [
       "<Figure size 432x288 with 1 Axes>"
      ]
     },
     "metadata": {
      "needs_background": "light"
     },
     "output_type": "display_data"
    }
   ],
   "source": [
    "q0=-1780\n",
    "q1=-530.9\n",
    "yp=[]\n",
    "for i in x1:\n",
    "    yi = q0 + q1*i\n",
    "    yp.append(yi)\n",
    "plt.plot(x1,yp)\n",
    "plt.show()"
   ]
  }
 ],
 "metadata": {
  "kernelspec": {
   "display_name": "Python 3",
   "language": "python",
   "name": "python3"
  },
  "language_info": {
   "codemirror_mode": {
    "name": "ipython",
    "version": 3
   },
   "file_extension": ".py",
   "mimetype": "text/x-python",
   "name": "python",
   "nbconvert_exporter": "python",
   "pygments_lexer": "ipython3",
   "version": "3.7.6"
  }
 },
 "nbformat": 4,
 "nbformat_minor": 4
}
